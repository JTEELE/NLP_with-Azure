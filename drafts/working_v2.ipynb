{
 "cells": [
  {
   "cell_type": "code",
   "execution_count": 6,
   "metadata": {},
   "outputs": [],
   "source": [
    "query = input(\"e.g. Harley Davidson\")\n",
    "#Copyright (c) Microsoft Corporation. All rights reserved.\n",
    "#Licensed under the MIT License.\n",
    "\n",
    "# -*- coding: utf-8 -*-\n",
    "\n",
    "import json\n",
    "import os \n",
    "from pprint import pprint\n",
    "import nltk\n",
    "import requests\n",
    "from nltk.corpus import stopwords\n",
    "from nltk.tokenize import sent_tokenize, word_tokenize\n",
    "import pandas as pd\n",
    "import re\n",
    "import requests\n",
    "from _functions import *\n",
    "\n",
    "'''\n",
    "This sample makes a call to the Bing Web Search API with a query and returns relevant web search.\n",
    "Documentation: https://docs.microsoft.com/en-us/bing/search-apis/bing-web-search/overview\n",
    "'''\n",
    "\n",
    "# Add your Bing Search V7 subscription key and endpoint to your environment variables.\n",
    "subscription_key = os.environ['BINGNEWS_API']\n",
    "endpoint = os.environ['BING_ENDPOINT'] + \"v7.0/search\"\n",
    "\n",
    "# Query term(s) to search for. \n",
    "\n",
    "search_url = \"https://api.bing.microsoft.com/v7.0/news/search\"\n",
    "headers = {\"Ocp-Apim-Subscription-Key\" : subscription_key}\n",
    "params  = {\"q\": query, \"textDecorations\": True, \"textFormat\": \"HTML\"}\n",
    "response = requests.get(search_url, headers=headers, params=params)\n",
    "response.raise_for_status()\n",
    "search_results = response.json()\n",
    "# search_results = json.dumps(response.json())\n",
    "# clean_text(search_results)"
   ]
  }
 ],
 "metadata": {
  "interpreter": {
   "hash": "949d93f98c686104ee3fd3c2036c1d522b3f213c3f188120e08ebcf119bc54e1"
  },
  "kernelspec": {
   "display_name": "Python 3.8.12 ('base')",
   "language": "python",
   "name": "python3"
  },
  "language_info": {
   "codemirror_mode": {
    "name": "ipython",
    "version": 3
   },
   "file_extension": ".py",
   "mimetype": "text/x-python",
   "name": "python",
   "nbconvert_exporter": "python",
   "pygments_lexer": "ipython3",
   "version": "3.8.12"
  },
  "orig_nbformat": 4
 },
 "nbformat": 4,
 "nbformat_minor": 2
}
