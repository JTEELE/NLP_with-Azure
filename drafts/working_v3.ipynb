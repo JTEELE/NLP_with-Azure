{
 "cells": [
  {
   "cell_type": "code",
   "execution_count": 1,
   "metadata": {},
   "outputs": [
    {
     "name": "stdout",
     "output_type": "stream",
     "text": [
      "_type\n",
      "readLink\n",
      "queryContext\n",
      "totalEstimatedMatches\n",
      "sort\n",
      "value\n"
     ]
    }
   ],
   "source": [
    "query = input(\"e.g. Harley Davidson\")\n",
    "#Copyright (c) Microsoft Corporation. All rights reserved.\n",
    "#Licensed under the MIT License.\n",
    "\n",
    "# -*- coding: utf-8 -*-\n",
    "\n",
    "import json\n",
    "import os \n",
    "from pprint import pprint\n",
    "import nltk\n",
    "import requests\n",
    "from nltk.corpus import stopwords\n",
    "from nltk.tokenize import sent_tokenize, word_tokenize\n",
    "import pandas as pd\n",
    "import re\n",
    "import requests\n",
    "from _functions import *\n",
    "\n",
    "'''\n",
    "This sample makes a call to the Bing Web Search API with a query and returns relevant web search.\n",
    "Documentation: https://docs.microsoft.com/en-us/bing/search-apis/bing-web-search/overview\n",
    "'''\n",
    "\n",
    "# Add your Bing Search V7 subscription key and endpoint to your environment variables.\n",
    "subscription_key = os.environ['BINGNEWS_API']\n",
    "endpoint = os.environ['BING_ENDPOINT'] + \"v7.0/search\"\n",
    "\n",
    "# Query term(s) to search for. \n",
    "\n",
    "search_url = \"https://api.bing.microsoft.com/v7.0/news/search\"\n",
    "headers = {\"Ocp-Apim-Subscription-Key\" : subscription_key}\n",
    "params  = {\"q\": query, \"textDecorations\": True, \"textFormat\": \"HTML\"}\n",
    "response = requests.get(search_url, headers=headers, params=params)\n",
    "response.raise_for_status()\n",
    "search_results = response.json()\n",
    "for word in search_results:\n",
    "    print(word)\n",
    "\n",
    "# search_results = json.dumps(response.json())\n",
    "# clean_text(search_results)"
   ]
  },
  {
   "cell_type": "code",
   "execution_count": 3,
   "metadata": {},
   "outputs": [
    {
     "name": "stdout",
     "output_type": "stream",
     "text": [
      "Russian forces continue to pound Kharkiv with artillery and air strikes as the staff at the main art museum rush to get artwork, much of which is by Russian artists, to safety ahead of future attacks.\n",
      "LVIV, Ukraine — Ukrainian President Volodymyr Zelenskyy said 100,000 people have been evacuated during the past two days from seven cities under Russian blockade in the north and center of the country,\n",
      "House Energy and Commerce committee Republicans are calling on certain environmental groups to disclose their ties to a non-governmental organization which is, according to the committee, reportedly used by Russian President Vladimir Putin to make an impact on American energy production.\n",
      "Although public pressure is building on major businesses to exit the country, a number of prominent players remain.\n",
      "Foreign companies that have left Russia could see their businesses nationalized under legislation being considered there.\n",
      "Cargo ships dropped port calls and oil companies cut their pipelines. Russia&#39;s invasion of Ukraine is leading some of the world&#39;s best known brands — from Apple to Disney and Ikea — to abruptly exit a country that&#39;s become a global outcast.\n",
      "A shrinking number of well-known companies are still doing business in Russia, even as hundreds have announced plans to curtail ties .\n",
      "United Nations atomic agency chief Rafael Grossi held talks in Turkey on Thursday with the foreign ministers of Russia and Ukraine in the hopes of kick-starting an agreement to safeguard Ukraine’s nuclear facilities amid Russia’s invasion of the country.\n",
      "The Dow Jones Industrial Average is heads for its fifth losing week in a row amid Russia&#39;s invasion of Ukraine.\n"
     ]
    }
   ],
   "source": [
    "total_dataset = []\n",
    "article = search_results[\"value\"]\n",
    "for substance in article:\n",
    "    print(substance[\"description\"])\n",
    "    paragraph = (substance[\"description\"])\n",
    "    total_dataset.append(paragraph)\n"
   ]
  },
  {
   "cell_type": "code",
   "execution_count": 5,
   "metadata": {},
   "outputs": [
    {
     "data": {
      "text/plain": [
       "9"
      ]
     },
     "execution_count": 5,
     "metadata": {},
     "output_type": "execute_result"
    }
   ],
   "source": [
    "len(total_dataset)"
   ]
  },
  {
   "cell_type": "code",
   "execution_count": null,
   "metadata": {},
   "outputs": [],
   "source": []
  }
 ],
 "metadata": {
  "interpreter": {
   "hash": "949d93f98c686104ee3fd3c2036c1d522b3f213c3f188120e08ebcf119bc54e1"
  },
  "kernelspec": {
   "display_name": "Python 3.8.12 ('base')",
   "language": "python",
   "name": "python3"
  },
  "language_info": {
   "codemirror_mode": {
    "name": "ipython",
    "version": 3
   },
   "file_extension": ".py",
   "mimetype": "text/x-python",
   "name": "python",
   "nbconvert_exporter": "python",
   "pygments_lexer": "ipython3",
   "version": "3.8.12"
  },
  "orig_nbformat": 4
 },
 "nbformat": 4,
 "nbformat_minor": 2
}
