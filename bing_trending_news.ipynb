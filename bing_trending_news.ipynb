{
 "cells": [
  {
   "cell_type": "code",
   "execution_count": 2,
   "metadata": {},
   "outputs": [],
   "source": [
    "# query = input(\"e.g. Harley Davidson\")\n",
    "# -*- coding: utf-8 -*-\n",
    "\n",
    "import json\n",
    "import os \n",
    "from pprint import pprint\n",
    "import nltk\n",
    "import requests\n",
    "from nltk.corpus import stopwords\n",
    "from nltk.tokenize import sent_tokenize, word_tokenize\n",
    "import pandas as pd\n",
    "import re\n",
    "import requests\n",
    "from _functions import *\n",
    "from nltk.util import ngrams\n",
    "from collections import Counter\n",
    "from nltk.stem import WordNetLemmatizer\n",
    "lemmatizer = WordNetLemmatizer()\n",
    "from urllib.request import urlopen, Request\n",
    "from bs4 import BeautifulSoup\n",
    "\n",
    "'''\n",
    "This sample makes a call to the Bing Web Search API with a query and returns relevant web search.\n",
    "Documentation: https://docs.microsoft.com/en-us/bing/search-apis/bing-web-search/overview\n",
    "'''\n",
    "\n",
    "# Add your Bing Search V7 subscription key and endpoint to your environment variables.\n",
    "subscription_key = os.environ['BINGNEWS_API_ONE']\n",
    "endpoint = os.environ['BING_ENDPOINT'] + \"v7.0/search\"\n",
    "\n",
    "search_url = \"https://api.bing.microsoft.com/v7.0/news/trendingtopics\"\n",
    "headers = {\"Ocp-Apim-Subscription-Key\" : subscription_key}\n",
    "# params  = {\"mkt\": \"en-US\"}\n",
    "response = requests.get(search_url, headers=headers)\n",
    "response.raise_for_status()\n",
    "search_results = response.json()\n",
    "\n",
    "# for word in search_results:\n",
    "#     print(word)\n",
    "# search_results = json.dumps(response.json())\n",
    "# clean_text(search_results)\n",
    "\n",
    "total_dataset = []\n",
    "article = search_results[\"value\"]"
   ]
  },
  {
   "cell_type": "code",
   "execution_count": 3,
   "metadata": {},
   "outputs": [],
   "source": [
    "urls_ls = []\n",
    "for trending_record in article:\n",
    "    urls_ls.append(trending_record['newsSearchUrl'])"
   ]
  },
  {
   "cell_type": "code",
   "execution_count": 12,
   "metadata": {},
   "outputs": [],
   "source": [
    "string_ls = []\n",
    "for url in urls_ls:\n",
    "    req = Request(url=url, headers={'user-agent': 'my-app'})\n",
    "    response = urlopen(req)\n",
    "    html = BeautifulSoup(response, features='html.parser')\n",
    "    raw_text = html.get_text()\n",
    "    lines = (line.strip() for line in raw_text.splitlines())\n",
    "    chunks = (phrase.strip() for line in lines for phrase in line.split(\"  \"))\n",
    "    text = '\\n'.join(chunk for chunk in chunks if chunk)\n",
    "    string_ls.append(text)"
   ]
  },
  {
   "cell_type": "code",
   "execution_count": 14,
   "metadata": {},
   "outputs": [
    {
     "data": {
      "text/plain": [
       "'Timothee Chalamet social media - Bing News RewardsAllImagesVideosMapsNewsShoppingMoreFlightsTravelTop storiesSportsU.S.LocalWorldScienceTechnologyEntertainmentPoliticsBusinessinterestsTrending on Bing\\'Societal collapse\\'Biden demands actionGrim rescue detailsAdmits ‘quiet quit’Record 127 degrees‘Teen’ star engagedTeacher and kids shotCalls for ‘pitchforks’Author and activistArrest made in lakeDead animals arrest14 homes across state‘Using me’ for cloutMigrant bus welcomedNYC sues over firingMurdered ad respondersLymphoma diagnosisWarwick-Knight mix-upMisled over doorman?Shark lands in boatMajor evacuationIran seizes US dronesAbortion benefits1st hurricane in 2022New UK reality showClean energy pickCeltics lose forward8 die trying to crossPacific island summitLoses in Round 3Heat wave in WestTaken off life supportAny timePast hourPast 24 hoursPast 7 daysPast 30 daysBest matchMost recent2,830 resultsTimothée Chalamet talks negative side effects of social media: \\'It\\'s hard to be alive now\\'Timothée Chalamet discussed the negative side effects of social media during press for his new movie, \"Bones and All.\" ...7hTimothèe Chalamet Blasts Social Media Negativity: ‘It’s Tough to Be Alive Now’Timothée Chalamet blasted the social media world we are living in at the Venice press conference for Luca Guadagino’s “Bones ...16hon MSNTimothée Chalamet slams social media\\'s negative effects on his generation: \\'Societal collapse is in the air\\'Bones and All\\' star Timothée Chalamet expressed concern over social media\\'s effects on his generation at the Venice Film ...13hWhy Timothée Chalamet Thinks \\'Societal Collapse Is In The Air\\' Thanks To Social MediaWhy does Timothée Chalamet think that “societal collapse is in the air?\" Some of Timothée Chalamet\\'s best movies have seen ...5hon MSNIn Timothée Chalamet\\'s humble opinion, social media is contributing to \"societal collapse\"Dune: Part Two might not come out for a while, but Timothée Chalamet is already stepping back into the role of the prophetic ...12hTimothée Chalamet Shared His Opinions On Social Media Culture And How It Impacts Those Who Participate In ItTimothée got real about his views on social media culture and the impact it has on today\\'s youth.View Entire Post › ...8hTimothée Chalamet Says It\\'s \"Tough to Be Alive Now\" During Discussion on Social MediaDuring a Venice Film Festival press conference for Bones and All, Timothée Chalamet said he thinks the world is on the brink ...14hTimothee Chalamet blasts social media negativityHollywood star Timothee Chalamet blasted the social media world at the Venice press conference for Luca Guadagino’s ‘Bones and All’ in which he and co-star Taylor Russell play cannibal lovers on a ...3mTimothée Chalamet crowned the new King Of Claps after Bones And All gets 8.5-minute Venice ovationGather ’round, children, for the prophecy has borne fruit at last: Timothée Chalamet has just been crowned our brand new King ...6hon MSNTimothée Chalamet: ‘Societal Collapse Is in the Air’ Due to Social MediaTimothée Chalamet is picking a bone with social media. The “Bones and All” star spoke out regarding the contemporary social ...15hSome results have been hidden because they may be inaccessible to youShow inaccessible results© 2022 MicrosoftPrivacy and CookiesLegalNewAdvertiseAbout our adsHelpFeedback'"
      ]
     },
     "execution_count": 14,
     "metadata": {},
     "output_type": "execute_result"
    }
   ],
   "source": [
    "string_ls[0]"
   ]
  },
  {
   "cell_type": "code",
   "execution_count": 16,
   "metadata": {},
   "outputs": [
    {
     "data": {
      "text/plain": [
       "{'home': 67,\n",
       " 'result': 67,\n",
       " 'inaccessible': 64,\n",
       " 'wa': 57,\n",
       " 'wave': 53,\n",
       " 'life': 53,\n",
       " 'animal': 49,\n",
       " 'hurricane': 47,\n",
       " 'star': 43,\n",
       " 'across': 42,\n",
       " 'island': 42,\n",
       " 'reality': 40,\n",
       " 'sue': 39,\n",
       " 'seizes': 39,\n",
       " 'quiet': 36,\n",
       " 'ad': 36,\n",
       " 'trying': 36,\n",
       " 'bus': 35,\n",
       " 'two': 35,\n",
       " 'rescue': 34}"
      ]
     },
     "execution_count": 16,
     "metadata": {},
     "output_type": "execute_result"
    }
   ],
   "source": [
    "top_record_count = 20\n",
    "sample_url = str(string_ls)\n",
    "strip_lines=sample_url.strip()\n",
    "lemmatizer = WordNetLemmatizer()\n",
    "stop_words_list = set(stopwords.words('english'))\n",
    "# stop_words_list = list(nltk_stop_words)\n",
    "include_in_stopwords = ['ha']\n",
    "remove_from_stopwords = ['all', 'below', 'being', 'too']\n",
    "stop_words = [elem for elem in stop_words_list if elem not in remove_from_stopwords]\n",
    "stop_words = stop_words+include_in_stopwords\n",
    "regex = re.compile(\"[^a-zA-Z ]\")\n",
    "re_clean = regex.sub('', strip_lines)\n",
    "words = word_tokenize(re_clean)\n",
    "lem = [lemmatizer.lemmatize(word) for word in words]\n",
    "output = [c for c in lem if c.islower()]\n",
    "output = [word.lower() for word in output if word.lower() not in stop_words]\n",
    "top_records = dict(Counter(output).most_common(top_record_count))\n",
    "top_record_df = pd.DataFrame(list(top_10.items()), columns=['word', 'count'])\n",
    "top_records"
   ]
  }
 ],
 "metadata": {
  "kernelspec": {
   "display_name": "Python 3.9.12 ('ml')",
   "language": "python",
   "name": "python3"
  },
  "language_info": {
   "codemirror_mode": {
    "name": "ipython",
    "version": 3
   },
   "file_extension": ".py",
   "mimetype": "text/x-python",
   "name": "python",
   "nbconvert_exporter": "python",
   "pygments_lexer": "ipython3",
   "version": "3.9.12"
  },
  "orig_nbformat": 4,
  "vscode": {
   "interpreter": {
    "hash": "b6d703e2c22e6bb4fd01c76b48a94d2561148bc70d401004e45f8a7fd61b65b9"
   }
  }
 },
 "nbformat": 4,
 "nbformat_minor": 2
}
